{
 "cells": [
  {
   "cell_type": "code",
   "execution_count": 4,
   "metadata": {},
   "outputs": [],
   "source": [
    "from bs4 import BeautifulSoup\n",
    "from urllib.request import urlopen\n",
    "\n",
    "def getInfo(url) :\n",
    "\thtml = urlopen(url)\n",
    "\tsoup = BeautifulSoup(html, 'html.parser')\n",
    "\n",
    "\tdate = soup.find('time')['data-time-published']\n",
    "\tarticleHTML = soup.find('div', attrs={'class':'article-body'})\n",
    "\n",
    "\n",
    "\tdomain = url.split('/')[2]\n",
    "\n",
    "\n",
    "\threfs = articleHTML.findAll('a')\n",
    "\n",
    "\tsameHref = []\n",
    "\tdiffHrefs = []\n",
    "\tdomainRef=set()\n",
    "\tfor h in hrefs :\n",
    "\t    newHref = h['href']\n",
    "\t    domainRef.add(newHref.split('/')[2])\n",
    "\t    if 'http' in newHref :\n",
    "\t        \n",
    "\t        if 'foxnews' in  newHref :\n",
    "\t            sameHref += [newHref]\n",
    "\t        else :\n",
    "\t            diffHrefs += [newHref]\n",
    "\n",
    "\n",
    "\tarticle = ''\n",
    "\tps = articleHTML.findAll('p')\n",
    "\tfor p in ps :\n",
    "\t    article += p.text +'\\n'\n",
    "\treturn {'sameHref':str(sameHref),'diffHrefs':str(diffHrefs), 'domainRef' : str(domainRef) , 'date':str(date),'article':str(article)}"
   ]
  },
  {
   "cell_type": "code",
   "execution_count": 5,
   "metadata": {},
   "outputs": [
    {
     "data": {
      "text/plain": [
       "{'article': '\\n                                    Florine Gruen Goldfarb has faced a barrage of criticism since CNN ambushed her outside her home. \\n                                    \\n                                \\nFlorine Gruen Goldfarb, 76,\\xa0 never thought her Trump-inspired activism during the 2016 election would earn her infamy and ridicule – but that’s what happened thanks to CNN.\\xa0\\nCNN correspondent\\xa0Drew Griffin ambushed the Trump supporter outside her home earlier this week because she may have unwittingly promoted a Russian-coordinated event during the 2016 election. Now she\\'s receiving threats on social media, and she lays the blame at the news network\\'s feet.\\nGoldfarb had her full name plastered on the video that was tweeted out to CNN’s nearly 40 million followers. Her house number was also visible for much off the video. Her crime? Unknowingly organizing a pro-Trump event on Facebook that was influenced by the Russians, who are accused of meddling in the election.\\nFox News reached Goldfarb, of Pembroke Pines, Fla., via Facebook Messenger and she declined a phone interview because she wants the “situation to go away.” She says she\\'s been bombarded since Griffin showed up at her door.\\n\"My phone is ringing off the hook and I can\\'t keep up with the emails and Facebook messages. I am being trashed by anti-Trump trolls on Facebook. This would have never happened if Fake News CNN had not caught me at home and ambushed me trying to coerce me into giving them the answers they were looking for,” Goldfarb told Fox News via the messaging app.\\xa0“CNN is doing a great job exposing themselves as Fake News.\"\\xa0\\nThis would have never happened if Fake News CNN had not caught me at home and ambushed me trying to coerce me into giving them the answers they were looking for.\"\\nGoldfarb was called “public enemy number one,” a “traitor,” “miserable racist trash” and a treasonous hillbilly.” One Facebook user said she “should be arrested and tried for treason” in a series of messages\\xa0arising in the wake of the CNN segment. \\xa0\\nOutspoken liberal actor Jon Cryer, co-star of \"Two and a Half Men,\"\\xa0tweeted out CNN’s video of the ensnarement and wrote, “We are dealing with a cult.” One user responded that Goldfarb should “move” and ought to be\\xa0embarrassed to show her face in town. Yet another user called her a “complete moron,” and one person responded that “there\\'s no witness protection program for the willfully ignorant.”\\nThe episode puts the spotlight on CNN’s own coverage and promotion of an anti-Trump rally that was allegedly coordinated by Russian trolls fingered by Special Counsel Robert Mueller’s investigation. Back on Nov. 12, 2016, CNN gave “enthusiastic coverage to the Russian-organized anti-Trump rally that day, with live reports every hour,” according to the\\xa0Media Research Center.\\xa0\\nA Florida woman who ran a Trump supporters page that unwittingly promoted a Russian-coordinated event on Facebook says she doesn’t believe that she was influenced by Kremlin-linked trolls https://t.co/DmgDRFRwyn pic.twitter.com/OAz5julCyA\\n“They should do an ambush of their own producers,” Fox News’ Greg Gutfeld recently said on “The Five.”\\xa0\\nInstead, Griffin approached Goldfarb on her own front lawn in Pembroke Pines, asking if she\\'d been part of a coverup. “The Russians? I don’t care if they were involved or not,” she said.\\nThe combative CNN correspondent then asked if she was aware of the Russian influence, but Goldfarb quickly shot down his question. “They weren’t involved with us. Just make sure you report it correctly,” she said.\\nGriffin then shifted gears, asking her if she was involved in “Being Patriotic,” which is apparently the name of a Russian troll group. But Goldfarb responded that she was “very patriotic.”\\nGriffin continued to question her outside her home, essentially accusing her of complying with Russian trolls. Goldfarb eventually walked away, calling the allegations “bulls—t” on her way inside the house.\\nCNN’s verified Twitter account shared the video with the caption “A Florida woman who ran a Trump supporters page that unwittingly promoted a Russian-coordinated event on Facebook says she doesn’t believe that she was influenced by Kremlin-linked trolls.”\\nWith the apparent shaming of her for being manipulated by Russians, CNN gave American trolls a green light to harass her on social media. She isn’t hard to find, as only one “Florine Gruen Goldfarb” appears in the search function on Facebook.\\nHer page features an Ivanka Trump photo and reveals that she is part of numerous conservative pro-Trump groups. Goldfarb said she has received messages from fellow Trump supporters across the globe who saw the CNN segment.\\xa0\\n“I greatly appreciate their support,” Goldfard wrote to Fox News.\\xa0\\n“The Five” co-host Jesse Watters established himself as a cable news star conducting man-on-the-street segments and ambush interviews. “I’ve done this dozens and dozens of times and ambushed people. I’ve never done it to a regular person outside of their house,” Watters said. “The guy can go to someone’s house with a camera and a mic, that’s fine. … His tone was so wrong and accusatory.”\\nCo-host Kimberly Guilfoyle added that Goldfarb would have “quite a lawsuit if anything happens to her” as a result of the CNN report.\\xa0\\xa0\\nGoldfard shared one of the threatening messages she has received with Fox News. She received it on Friday at 9:10 a.m. ET from a stranger on Facebook.\\n“Hey Comrade, I saw you being interviewed and denying helping Russians. You and all the Russian allies should go prison once we hang Trump for treason. Looking forward to impeaching your treasonous pos fake President, and coming after his enablers like you,” the message said.\\xa0\\nWhile Goldfarb is concerned for her safety, she doesn’t want anyone feeling sorry for because of her advanced age.\\xa0\\n“I may be 76 going on 77 but I am not an old lady. I have been active in politics for 10 years. Worked on many campaigns. In between my hobby is dancing, such as line dancing, couple dancing such as cha-cha, west and East Coast swing dances,” Goldfarb said.\\xa0\\nPembroke Pines police did not immediately respond to request for comment.\\xa0\\nBrian Flood covers the media for Fox News. Follow him on Twitter at @briansflood.\\n',\n",
       " 'date': '2018-02-23T09:20:00Z-0500',\n",
       " 'diffHrefs': \"['https://twitter.com/CNN/status/966134015337140229', 'https://twitter.com/WamsuttaLives/status/966413362308399104', 'https://twitter.com/MrJonCryer/status/966141174032482305', 'https://twitter.com/chrisgatens/status/966153850771197952', 'https://twitter.com/CatherineSpanos/status/966322132153192450', 'https://www.newsbusters.org/blogs/nb/rich-noyes/2018/02/19/flashback-cnn-and-msnbcs-enthusiastic-coverage-russian-sponsored-anti', 'https://t.co/DmgDRFRwyn', 'https://t.co/OAz5julCyA', 'https://twitter.com/CNN/status/966134015337140229?ref_src=twsrc%5Etfw', 'https://twitter.com/briansflood']\",\n",
       " 'domainRef': \"{'twitter.com', 'www.newsbusters.org', 't.co'}\",\n",
       " 'sameHref': '[]'}"
      ]
     },
     "execution_count": 5,
     "metadata": {},
     "output_type": "execute_result"
    }
   ],
   "source": [
    "getInfo('http://www.foxnews.com/entertainment/2018/02/23/trump-supporter-76-blames-fake-news-cnn-for-threats-following-reporter-ambush.html')"
   ]
  },
  {
   "cell_type": "code",
   "execution_count": null,
   "metadata": {},
   "outputs": [],
   "source": []
  }
 ],
 "metadata": {
  "kernelspec": {
   "display_name": "Python 3",
   "language": "python",
   "name": "python3"
  },
  "language_info": {
   "codemirror_mode": {
    "name": "ipython",
    "version": 3
   },
   "file_extension": ".py",
   "mimetype": "text/x-python",
   "name": "python",
   "nbconvert_exporter": "python",
   "pygments_lexer": "ipython3",
   "version": "3.6.1"
  }
 },
 "nbformat": 4,
 "nbformat_minor": 2
}
