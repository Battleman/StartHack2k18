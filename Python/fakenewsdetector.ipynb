{
 "cells": [
  {
   "cell_type": "code",
   "execution_count": null,
   "metadata": {},
   "outputs": [],
   "source": [
    "from selenium import webdriver\n",
    "from selenium.webdriver.common.keys import Keys\n",
    "import csv\n",
    "\n",
    "import time"
   ]
  },
  {
   "cell_type": "code",
   "execution_count": null,
   "metadata": {
    "scrolled": true
   },
   "outputs": [],
   "source": [
    "# driver=webdriver.Chrome('D:\\\\epfl\\\\Lauzhack\\\\StartHack2k18\\\\Python\\\\chromedriver.exe')\n",
    "driver=webdriver.Firefox()\n",
    "def isComplotiste (url) :\n",
    "#Getting local session of Chrome\n",
    "    \n",
    "\n",
    "    page = driver.get('http://www.fakenewsai.com/');\n",
    "\n",
    "    inpu = driver.find_element_by_tag_name('input')\n",
    "    inpu.clear()\n",
    "    inpu.send_keys(url)\n",
    "    driver.find_element_by_class_name('button').click()\n",
    "\n",
    "    time.sleep(2)\n",
    "    for resM in driver.find_elements_by_class_name('results') :\n",
    "        if resM.get_attribute('style') == 'opacity: 1;' :\n",
    "            return resM.text\n",
    "print(isComplotiste(\"www.rts.ch\"))"
   ]
  },
  {
   "cell_type": "code",
   "execution_count": null,
   "metadata": {},
   "outputs": [],
   "source": [
    "with open('credible.csv', 'r') as csvfile:\n",
    "    spamreader = csv.reader(csvfile, delimiter=',', quotechar='|')\n",
    "    for row in spamreader :\n",
    "        print(row[0][1:-1])\n",
    "        print( isComplotiste(row[0][1:-1]))\n",
    "        "
   ]
  },
  {
   "cell_type": "code",
   "execution_count": null,
   "metadata": {},
   "outputs": [],
   "source": [
    "with open('notCredible.csv', 'r') as csvfile:\n",
    "    spamreader = csv.reader(csvfile, delimiter=',', quotechar=' ')\n",
    "    for row in spamreader :\n",
    "        print(row[0])\n",
    "        print( isComplotiste(row[0]))\n",
    "        "
   ]
  },
  {
   "cell_type": "code",
   "execution_count": null,
   "metadata": {},
   "outputs": [],
   "source": []
  }
 ],
 "metadata": {
  "kernelspec": {
   "display_name": "Python 3",
   "language": "python",
   "name": "python3"
  },
  "language_info": {
   "codemirror_mode": {
    "name": "ipython",
    "version": 3
   },
   "file_extension": ".py",
   "mimetype": "text/x-python",
   "name": "python",
   "nbconvert_exporter": "python",
   "pygments_lexer": "ipython3",
   "version": "3.6.4"
  }
 },
 "nbformat": 4,
 "nbformat_minor": 2
}
