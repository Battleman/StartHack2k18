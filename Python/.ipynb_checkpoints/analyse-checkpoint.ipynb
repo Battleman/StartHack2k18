{
 "cells": [
  {
   "cell_type": "code",
   "execution_count": null,
   "metadata": {},
   "outputs": [],
   "source": [
    "from bs4 import BeautifulSoup\n",
    "from urllib.request import urlopen"
   ]
  },
  {
   "cell_type": "code",
   "execution_count": null,
   "metadata": {},
   "outputs": [],
   "source": [
    "url = \"http://www.foxnews.com/opinion/2018/02/23/trump-dumps-boring-speech-to-talk-bald-spot-read-snake-oh-and-tout-his-accomplishments.html\""
   ]
  },
  {
   "cell_type": "code",
   "execution_count": null,
   "metadata": {},
   "outputs": [],
   "source": [
    "html = urlopen(url)\n",
    "print(html)\n",
    "soup = BeautifulSoup(html, 'html.parser')"
   ]
  },
  {
   "cell_type": "code",
   "execution_count": null,
   "metadata": {},
   "outputs": [],
   "source": [
    "date = soup.find('time')['data-time-published']\n",
    "articleHTML = soup.find('div', attrs={'class':'article-body'})\n"
   ]
  },
  {
   "cell_type": "code",
   "execution_count": null,
   "metadata": {},
   "outputs": [],
   "source": [
    "domain = url.split('/')[2]\n",
    "\n",
    "\n",
    "hrefs = articleHTML.findAll('a')"
   ]
  },
  {
   "cell_type": "code",
   "execution_count": null,
   "metadata": {},
   "outputs": [],
   "source": [
    "sameHref = []\n",
    "diffHrefs = []\n",
    "for h in hrefs :\n",
    "    newHref = h['href']\n",
    "    if 'http' in newHref :\n",
    "        \n",
    "        if 'foxnews' in  newHref :\n",
    "            sameHref += [newHref]\n",
    "        else :\n",
    "            diffHrefs += [newHref]\n"
   ]
  },
  {
   "cell_type": "code",
   "execution_count": null,
   "metadata": {},
   "outputs": [],
   "source": [
    "article = ''\n",
    "ps = articleHTML.findAll('p')\n",
    "for p in ps :\n",
    "    article += p.text +'\\n'"
   ]
  },
  {
   "cell_type": "code",
   "execution_count": null,
   "metadata": {},
   "outputs": [],
   "source": [
    "falseHeadLine = soup.find('h1', attrs={'class':'headline head1'}).text\n",
    "headLine = "
   ]
  },
  {
   "cell_type": "code",
   "execution_count": null,
   "metadata": {},
   "outputs": [],
   "source": []
  },
  {
   "cell_type": "code",
   "execution_count": null,
   "metadata": {},
   "outputs": [],
   "source": []
  }
 ],
 "metadata": {
  "kernelspec": {
   "display_name": "Python 3",
   "language": "python",
   "name": "python3"
  },
  "language_info": {
   "codemirror_mode": {
    "name": "ipython",
    "version": 3
   },
   "file_extension": ".py",
   "mimetype": "text/x-python",
   "name": "python",
   "nbconvert_exporter": "python",
   "pygments_lexer": "ipython3",
   "version": "3.6.4"
  }
 },
 "nbformat": 4,
 "nbformat_minor": 2
}
