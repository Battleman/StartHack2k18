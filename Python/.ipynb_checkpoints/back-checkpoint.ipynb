{
 "cells": [
  {
   "cell_type": "code",
   "execution_count": 16,
   "metadata": {},
   "outputs": [],
   "source": [
    "from bs4 import BeautifulSoup\n",
    "from urllib.request import urlopen\n",
    "\n",
    "def getInfo(url) :\n",
    "\tif(\"foxnews\" not in url):\n",
    "\t\treturn dict()\n",
    "\thtml = urlopen(url)\n",
    "\tsoup = BeautifulSoup(html, 'html.parser')\n",
    "\n",
    "\tdate = soup.find('time')['data-time-published']\n",
    "\tarticleHTML = soup.find('div', attrs={'class':'article-body'})\n",
    "\n",
    "\n",
    "\tdomain = url.split('/')[2]\n",
    "\n",
    "\n",
    "\threfs = articleHTML.findAll('a')\n",
    "\n",
    "\tsameHref = []\n",
    "\tdiffHrefs = []\n",
    "\tdomainRef=set()\n",
    "\tfor h in hrefs :\n",
    "\t    newHref = h['href']\n",
    "\t    domainRef.add(newHref.split('/')[2])\n",
    "\t    if 'http' in newHref :\n",
    "\t        \n",
    "\t        if 'foxnews' in  newHref :\n",
    "\t            sameHref += [newHref]\n",
    "\t        else :\n",
    "\t            diffHrefs += [newHref]\n",
    "\n",
    "\n",
    "\tarticle = ''\n",
    "\tps = articleHTML.findAll('p')\n",
    "\tfor p in ps :\n",
    "\t    article += p.text +'\\n'\n",
    "\treturn {'sameHref':sameHref,'diffHrefs':diffHrefs, 'domainRef' : domainRef , 'date':str(date),'article':str(article)}"
   ]
  },
  {
   "cell_type": "code",
   "execution_count": 15,
   "metadata": {},
   "outputs": [
    {
     "name": "stdout",
     "output_type": "stream",
     "text": [
      "5\n"
     ]
    }
   ],
   "source": [
    "res = getInfo('http://www.foxnews.com/entertainment/2018/02/23/trump-supporter-76-blames-fake-news-cnn-for-threats-following-reporter-ambush.html')\n",
    "# res = getInfo('totototo')\n",
    "print(len(res))"
   ]
  },
  {
   "cell_type": "code",
   "execution_count": 89,
   "metadata": {},
   "outputs": [],
   "source": [
    "from selenium import webdriver\n",
    "from selenium.webdriver.common.keys import Keys\n",
    "from pyvirtualdisplay import Display\n",
    "import time\n",
    "def correct_url(url): \n",
    "    if not url.startswith(\"http://\") and not url.startswith(\"https://\"):\n",
    "        url = \"http://\" + url\n",
    "    return url\n",
    "\n",
    "def crawl_url(url, run_headless=True):\n",
    "    if run_headless:\n",
    "        display = Display(visible=0, size=(1024, 768))\n",
    "        display.start()\n",
    "    \n",
    "    url = correct_url(url)\n",
    "    browser = webdriver.Firefox()\n",
    "    browser.get(url)\n",
    "    \n",
    "    inputUrl = browser.find_element_by_id(\"url\")\n",
    "    inputUrl.clear()\n",
    "    inputUrl.send_keys(\"www.foxnews.com\")\n",
    "    inputUrl.send_keys(Keys.RETURN)\n",
    "    time.sleep(2)\n",
    "    realCalque = browser.find_element_by_id(\"real\")\n",
    "    assert str(1) in realCalque.get_attribute(\"style\")\n",
    "    \n",
    "    browser.quit()\n",
    "\n",
    "if __name__=='__main__':\n",
    "    url = \"http://fakenewsai.com\"\n",
    "    crawl_url(url, False)"
   ]
  },
  {
   "cell_type": "code",
   "execution_count": 72,
   "metadata": {},
   "outputs": [
    {
     "name": "stdout",
     "output_type": "stream",
     "text": [
      "Google\n"
     ]
    }
   ],
   "source": [
    "from pyvirtualdisplay import Display\n",
    "from selenium import webdriver\n",
    "\n",
    "display = Display(visible=0, size=(800, 600))\n",
    "display.start()\n",
    "\n",
    "# now Firefox will run in a virtual display. \n",
    "# you will not see the browser.\n",
    "browser = webdriver.Firefox()\n",
    "browser.get('http://www.google.com')\n",
    "print(browser.title)\n",
    "browser.quit()\n",
    "\n",
    "display.stop();"
   ]
  },
  {
   "cell_type": "code",
   "execution_count": 73,
   "metadata": {},
   "outputs": [],
   "source": [
    "from selenium import webdriver\n",
    "from selenium.webdriver.common.keys import Keys\n",
    "\n",
    "driver = webdriver.Firefox()\n",
    "driver.get(\"http://www.python.org\")\n",
    "assert \"Python\" in driver.title\n",
    "elem = driver.find_element_by_name(\"q\")\n",
    "elem.clear()\n",
    "elem.send_keys(\"pycon\")\n",
    "elem.send_keys(Keys.RETURN)\n",
    "assert \"No results found.\" not in driver.page_source\n",
    "driver.close()"
   ]
  },
  {
   "cell_type": "code",
   "execution_count": null,
   "metadata": {},
   "outputs": [],
   "source": []
  }
 ],
 "metadata": {
  "kernelspec": {
   "display_name": "Python 3",
   "language": "python",
   "name": "python3"
  },
  "language_info": {
   "codemirror_mode": {
    "name": "ipython",
    "version": 3
   },
   "file_extension": ".py",
   "mimetype": "text/x-python",
   "name": "python",
   "nbconvert_exporter": "python",
   "pygments_lexer": "ipython3",
   "version": "3.6.4"
  }
 },
 "nbformat": 4,
 "nbformat_minor": 2
}
