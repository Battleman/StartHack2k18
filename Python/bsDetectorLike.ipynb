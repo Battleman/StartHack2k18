{
 "cells": [
  {
   "cell_type": "code",
   "execution_count": 4,
   "metadata": {},
   "outputs": [],
   "source": [
    "import csv, json"
   ]
  },
  {
   "cell_type": "code",
   "execution_count": 27,
   "metadata": {},
   "outputs": [],
   "source": [
    "dico = {}"
   ]
  },
  {
   "cell_type": "code",
   "execution_count": 29,
   "metadata": {},
   "outputs": [],
   "source": [
    "with open('credible.csv', 'r') as csvfile:\n",
    "    spamreader = csv.reader(csvfile, delimiter='\"', quotechar='|')\n",
    "    for row in spamreader :\n",
    "        dico[row[1]] ='credible'"
   ]
  },
  {
   "cell_type": "code",
   "execution_count": 30,
   "metadata": {},
   "outputs": [
    {
     "data": {
      "text/plain": [
       "{'bbc.com': 'credible',\n",
       " 'bostonglobe.com': 'credible',\n",
       " 'chicagotribune.com': 'credible',\n",
       " 'independent.co.uk': 'credible',\n",
       " 'latimes.com': 'credible',\n",
       " 'nature.com': 'credible',\n",
       " 'newyorktimes.com': 'credible',\n",
       " 'nydailynews.com': 'credible',\n",
       " 'nytimes.com': 'credible',\n",
       " 'oregonlive.com': 'credible',\n",
       " 'phys.org': 'credible',\n",
       " 'reuters.com': 'credible',\n",
       " 'scientificamerican.com': 'credible',\n",
       " 'sfgate.com': 'credible',\n",
       " 'slate.com': 'credible',\n",
       " 'sltrib.com': 'credible',\n",
       " 'usatoday.com': 'credible',\n",
       " 'washingtonpost.com': 'credible',\n",
       " 'wsj.com': 'credible'}"
      ]
     },
     "execution_count": 30,
     "metadata": {},
     "output_type": "execute_result"
    }
   ],
   "source": [
    "dico"
   ]
  },
  {
   "cell_type": "code",
   "execution_count": 32,
   "metadata": {},
   "outputs": [
    {
     "name": "stdout",
     "output_type": "stream",
     "text": [
      "set()\n"
     ]
    }
   ],
   "source": [
    "with open('notCredible.csv', 'r') as csvfile:\n",
    "    spamreader = csv.reader(csvfile, delimiter=',', quotechar=' ')\n",
    "    se = set()\n",
    "    for row in spamreader :\n",
    "        dico[row[0]] = row[2].split(' ')[0]\n",
    "    print(se)"
   ]
  },
  {
   "cell_type": "code",
   "execution_count": 40,
   "metadata": {},
   "outputs": [],
   "source": [
    "import pickle\n",
    "def load_dico():\n",
    "    with open('bsDetectorDico.pkl', 'rb') as f:\n",
    "        return pickle.load(f)"
   ]
  },
  {
   "cell_type": "code",
   "execution_count": 42,
   "metadata": {},
   "outputs": [],
   "source": [
    "def bsDetctorAdvice (url , bsDico) :\n",
    "    return bsDico.get(url,'Unknown')"
   ]
  },
  {
   "cell_type": "code",
   "execution_count": 44,
   "metadata": {},
   "outputs": [
    {
     "data": {
      "text/plain": [
       "'Unknown'"
      ]
     },
     "execution_count": 44,
     "metadata": {},
     "output_type": "execute_result"
    }
   ],
   "source": [
    "bsDetctorAdvice('slte.com' , dico)"
   ]
  },
  {
   "cell_type": "code",
   "execution_count": null,
   "metadata": {},
   "outputs": [],
   "source": []
  }
 ],
 "metadata": {
  "kernelspec": {
   "display_name": "Python 3",
   "language": "python",
   "name": "python3"
  },
  "language_info": {
   "codemirror_mode": {
    "name": "ipython",
    "version": 3
   },
   "file_extension": ".py",
   "mimetype": "text/x-python",
   "name": "python",
   "nbconvert_exporter": "python",
   "pygments_lexer": "ipython3",
   "version": "3.6.1"
  }
 },
 "nbformat": 4,
 "nbformat_minor": 2
}
