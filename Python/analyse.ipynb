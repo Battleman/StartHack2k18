{
 "cells": [
  {
   "cell_type": "code",
   "execution_count": 8,
   "metadata": {},
   "outputs": [],
   "source": [
    "from bs4 import BeautifulSoup\n",
    "from urllib.request import urlopen"
   ]
  },
  {
   "cell_type": "code",
   "execution_count": 10,
   "metadata": {},
   "outputs": [],
   "source": [
    "url = \"http://www.foxnews.com/opinion/2018/02/23/trump-dumps-boring-speech-to-talk-bald-spot-read-snake-oh-and-tout-his-accomplishments.html\""
   ]
  },
  {
   "cell_type": "code",
   "execution_count": 14,
   "metadata": {},
   "outputs": [
    {
     "name": "stdout",
     "output_type": "stream",
     "text": [
      "<http.client.HTTPResponse object at 0x000001DBF28AEB70>\n"
     ]
    }
   ],
   "source": [
    "html = urlopen(url)\n",
    "print(html)\n",
    "soup = BeautifulSoup(html, 'html.parser')"
   ]
  },
  {
   "cell_type": "code",
   "execution_count": 18,
   "metadata": {},
   "outputs": [],
   "source": [
    "date = soup.find('time')['data-time-published']\n",
    "articleHTML = soup.find('div', attrs={'class':'article-body'})\n"
   ]
  },
  {
   "cell_type": "code",
   "execution_count": 30,
   "metadata": {},
   "outputs": [],
   "source": [
    "domain = url.split('/')[2]\n",
    "\n",
    "\n",
    "hrefs = articleHTML.findAll('a')"
   ]
  },
  {
   "cell_type": "code",
   "execution_count": 40,
   "metadata": {},
   "outputs": [],
   "source": [
    "sameHref = []\n",
    "diffHrefs = []\n",
    "for h in hrefs :\n",
    "    newHref = h['href']\n",
    "    if 'http' in newHref :\n",
    "        \n",
    "        if 'foxnews' in  newHref :\n",
    "            sameHref += [newHref]\n",
    "        else :\n",
    "            diffHrefs += [newHref]\n"
   ]
  },
  {
   "cell_type": "code",
   "execution_count": 50,
   "metadata": {},
   "outputs": [],
   "source": [
    "article = ''\n",
    "ps = articleHTML.findAll('p')\n",
    "for p in ps :\n",
    "    article += p.text +'\\n'"
   ]
  },
  {
   "cell_type": "code",
   "execution_count": null,
   "metadata": {},
   "outputs": [],
   "source": []
  },
  {
   "cell_type": "code",
   "execution_count": null,
   "metadata": {},
   "outputs": [],
   "source": []
  },
  {
   "cell_type": "code",
   "execution_count": null,
   "metadata": {},
   "outputs": [],
   "source": []
  }
 ],
 "metadata": {
  "kernelspec": {
   "display_name": "Python 3",
   "language": "python",
   "name": "python3"
  },
  "language_info": {
   "codemirror_mode": {
    "name": "ipython",
    "version": 3
   },
   "file_extension": ".py",
   "mimetype": "text/x-python",
   "name": "python",
   "nbconvert_exporter": "python",
   "pygments_lexer": "ipython3",
   "version": "3.6.1"
  }
 },
 "nbformat": 4,
 "nbformat_minor": 2
}
